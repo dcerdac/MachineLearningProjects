{
 "cells": [
  {
   "cell_type": "markdown",
   "metadata": {},
   "source": [
    "# RNN/LSTM techniques to predict time-series data"
   ]
  },
  {
   "cell_type": "markdown",
   "metadata": {},
   "source": [
    "There has been an increased on the use of Deep Learning techniques to predict anomalies using time series data. Some of the most common methods used and tested in the field are:\n",
    "\n",
    "* Denoising Deep Autoencoders.\n",
    "* GANs.\n",
    "* RNN/LSTM.\n",
    "\n",
    "\n",
    "\n",
    "LSTMs have been proved to be an option for anomaly detection, as suggested in the following papers:\n",
    "\n",
    "* [Variational Inference for On-line Anomaly Detection in High-Dimensional Time Series](https://arxiv.org/pdf/1602.07109.pdf)\n",
    "* [LSTM-based Encoder-Decoder for Multi-sensor Anomaly Detection](https://arxiv.org/pdf/1607.00148.pdf)\n",
    "* [Long Short Term Memory Networks for Anomaly Detection in Time Series](https://www.elen.ucl.ac.be/Proceedings/esann/esannpdf/es2015-56.pdf)\n",
    "\n",
    "\n",
    "This implementation was built using the advise on the following sources: [Keras recurrent tutorial ](https://github.com/Vict0rSch/deep_learning/tree/master/keras/recurrent) and\n",
    "[Recurrent Keras Power ](https://github.com/Vict0rSch/deep_learning/blob/master/keras/recurrent/recurrent_keras_power.py). Our work is far from being perfect, this is just a demostration on how a LSTM could be used on our dataset, nevertheless for a proper development there are some considerations that need to be taking into account. (i.g., regularisation, optimisation, evaluation, etc.)\n",
    "\n"
   ]
  },
  {
   "cell_type": "code",
   "execution_count": 100,
   "metadata": {},
   "outputs": [],
   "source": [
    "import pandas as pd\n",
    "import numpy as np\n",
    "from keras.models import Sequential\n",
    "from keras.layers.core import Dense, Activation, Dropout\n",
    "from keras.layers.recurrent import LSTM\n",
    "from sklearn.preprocessing import StandardScaler"
   ]
  },
  {
   "cell_type": "markdown",
   "metadata": {},
   "source": [
    "Feature extraction as previously seen."
   ]
  },
  {
   "cell_type": "code",
   "execution_count": 101,
   "metadata": {},
   "outputs": [],
   "source": [
    "df = pd.read_csv('machine_temperature_system_failure.csv')\n",
    "df['timestamp'] = pd.to_datetime(df['timestamp'])\n",
    "df['hours'] = df['timestamp'].dt.hour\n",
    "df['minutes'] = df['timestamp'].dt.minute\n",
    "df['month'] = df['timestamp'].dt.month\n",
    "df['quarter'] = df['timestamp'].dt.quarter\n",
    "df['workingHour'] = ((df['hours'] >= 6) & (df['hours'] <= 19)).astype(int)\n",
    "df['DayOfTheWeek'] = df['timestamp'].dt.dayofweek\n",
    "df['WeekDay'] = (df['DayOfTheWeek'] < 5).astype(int)\n",
    "df['time_epoch'] = (df['timestamp'].astype(np.int64)/100000000000).astype(np.int64)\n",
    "X = df.drop(['timestamp', 'time_epoch'], 1)"
   ]
  },
  {
   "cell_type": "code",
   "execution_count": 51,
   "metadata": {},
   "outputs": [],
   "source": [
    "# general hyperparameters\n",
    "prediction_time = 1 \n",
    "testdatasize = 1000\n",
    "unroll_length = 50\n",
    "testdatacut = testdatasize + unroll_length  + 1\n",
    "\n",
    "#train data\n",
    "#x_train = np.array(X_scaled[0:-prediction_time-testdatacut])\n",
    "#y_train = np.array(X_scaled[prediction_time:-testdatacut  ][0])\n",
    "\n",
    "# test data\n",
    "#x_test = np.array(X_scaled[0-testdatacut:-prediction_time])\n",
    "#y_test = np.array(X_scaled[prediction_time-testdatacut:  ][0])"
   ]
  },
  {
   "cell_type": "code",
   "execution_count": 59,
   "metadata": {},
   "outputs": [],
   "source": [
    "#Normalisation\n",
    "min_max_scaler = StandardScaler()\n",
    "np_scaled = min_max_scaler.fit_transform(X)\n",
    "data_n = pd.DataFrame(np_scaled)"
   ]
  },
  {
   "cell_type": "code",
   "execution_count": 72,
   "metadata": {},
   "outputs": [
    {
     "name": "stderr",
     "output_type": "stream",
     "text": [
      "C:\\Users\\Diego\\Anaconda3\\envs\\tensorflow\\lib\\site-packages\\ipykernel\\__main__.py:2: FutureWarning: Method .as_matrix will be removed in a future version. Use .values instead.\n",
      "  from ipykernel import kernelapp as app\n",
      "C:\\Users\\Diego\\Anaconda3\\envs\\tensorflow\\lib\\site-packages\\ipykernel\\__main__.py:3: FutureWarning: Method .as_matrix will be removed in a future version. Use .values instead.\n",
      "  app.launch_new_instance()\n",
      "C:\\Users\\Diego\\Anaconda3\\envs\\tensorflow\\lib\\site-packages\\ipykernel\\__main__.py:6: FutureWarning: Method .as_matrix will be removed in a future version. Use .values instead.\n",
      "C:\\Users\\Diego\\Anaconda3\\envs\\tensorflow\\lib\\site-packages\\ipykernel\\__main__.py:7: FutureWarning: Method .as_matrix will be removed in a future version. Use .values instead.\n"
     ]
    }
   ],
   "source": [
    "#train data\n",
    "x_train = data_n[0:-prediction_time-testdatacut].as_matrix()\n",
    "y_train = data_n[prediction_time:-testdatacut  ][0].as_matrix()\n",
    "\n",
    "# test data\n",
    "x_test = data_n[0-testdatacut:-prediction_time].as_matrix()\n",
    "y_test = data_n[prediction_time-testdatacut:  ][0].as_matrix()"
   ]
  },
  {
   "cell_type": "markdown",
   "metadata": {},
   "source": [
    "Once all the datapoints are loaded as one large timeseries, we have to split it into examples. "
   ]
  },
  {
   "cell_type": "code",
   "execution_count": 71,
   "metadata": {},
   "outputs": [],
   "source": [
    "#one example is made of a sequence of 50 values\n",
    "def unroll(data,sequence_length=24):\n",
    "    result = []\n",
    "    for index in range(len(data) - sequence_length):\n",
    "        result.append(data[index: index + sequence_length])\n",
    "    return np.asarray(result)"
   ]
  },
  {
   "cell_type": "code",
   "execution_count": 73,
   "metadata": {},
   "outputs": [
    {
     "name": "stdout",
     "output_type": "stream",
     "text": [
      "x_train (21593, 50, 8)\n",
      "y_train (21593,)\n",
      "x_test (1000, 50, 8)\n",
      "y_test (1000,)\n"
     ]
    }
   ],
   "source": [
    "# data sequence reshape\n",
    "x_train = unroll(x_train,unroll_length)\n",
    "x_test  = unroll(x_test,unroll_length)\n",
    "y_train = y_train[-x_train.shape[0]:]\n",
    "y_test  = y_test[-x_test.shape[0]:]\n",
    "\n",
    "# sanity check\n",
    "print(\"x_train\", x_train.shape)\n",
    "print(\"y_train\", y_train.shape)\n",
    "print(\"x_test\", x_test.shape)\n",
    "print(\"y_test\", y_test.shape)"
   ]
  },
  {
   "cell_type": "markdown",
   "metadata": {},
   "source": [
    "The Network will have 1-dimensional input, two hidden layers of sizes 50 and 100 and a 1-dimensional output layer."
   ]
  },
  {
   "cell_type": "code",
   "execution_count": 75,
   "metadata": {},
   "outputs": [
    {
     "name": "stderr",
     "output_type": "stream",
     "text": [
      "C:\\Users\\Diego\\Anaconda3\\envs\\tensorflow\\lib\\site-packages\\ipykernel\\__main__.py:6: UserWarning: The `input_dim` and `input_length` arguments in recurrent layers are deprecated. Use `input_shape` instead.\n",
      "C:\\Users\\Diego\\Anaconda3\\envs\\tensorflow\\lib\\site-packages\\ipykernel\\__main__.py:6: UserWarning: Update your `LSTM` call to the Keras 2 API: `LSTM(units=50, return_sequences=True, input_shape=(None, 8))`\n"
     ]
    }
   ],
   "source": [
    "model = Sequential()\n",
    "\n",
    "model.add(LSTM(\n",
    "            input_dim=x_train.shape[-1],\n",
    "            output_dim=50,\n",
    "            return_sequences=True))                \n",
    "model.add(Dropout(0.2))\n",
    "\n",
    "model.add(LSTM(\n",
    "            100,\n",
    "            return_sequences=False))\n",
    "model.add(Dropout(0.2))\n",
    "\n",
    "model.add(Dense(\n",
    "            units=1))\n",
    "model.add(Activation('linear'))\n"
   ]
  },
  {
   "cell_type": "code",
   "execution_count": 77,
   "metadata": {},
   "outputs": [
    {
     "name": "stdout",
     "output_type": "stream",
     "text": [
      "compilation time : 0.09750151634216309\n"
     ]
    }
   ],
   "source": [
    "#Measuring compilation time\n",
    "import time\n",
    "start = time.time()\n",
    "model.compile(loss='mse', optimizer='rmsprop') #Mean Squared Error is the standard for regression.\n",
    "print('Compilation time : {}'.format(time.time() - start))"
   ]
  },
  {
   "cell_type": "code",
   "execution_count": 78,
   "metadata": {},
   "outputs": [
    {
     "name": "stderr",
     "output_type": "stream",
     "text": [
      "C:\\Users\\Diego\\Anaconda3\\envs\\tensorflow\\lib\\site-packages\\keras\\models.py:981: UserWarning: The `nb_epoch` argument in `fit` has been renamed `epochs`.\n",
      "  warnings.warn('The `nb_epoch` argument in `fit` '\n"
     ]
    },
    {
     "name": "stdout",
     "output_type": "stream",
     "text": [
      "Train on 19433 samples, validate on 2160 samples\n",
      "Epoch 1/30\n",
      "19433/19433 [==============================] - 71s 4ms/step - loss: 0.3474 - val_loss: 0.3254\n",
      "Epoch 2/30\n",
      "19433/19433 [==============================] - 64s 3ms/step - loss: 0.0826 - val_loss: 0.1697\n",
      "Epoch 3/30\n",
      "19433/19433 [==============================] - 49s 3ms/step - loss: 0.0693 - val_loss: 0.2676\n",
      "Epoch 4/30\n",
      "19433/19433 [==============================] - 51s 3ms/step - loss: 0.0658 - val_loss: 0.0856\n",
      "Epoch 5/30\n",
      "19433/19433 [==============================] - 52s 3ms/step - loss: 0.0587 - val_loss: 0.1547\n",
      "Epoch 6/30\n",
      "19433/19433 [==============================] - 52s 3ms/step - loss: 0.0567 - val_loss: 0.0638\n",
      "Epoch 7/30\n",
      "19433/19433 [==============================] - 54s 3ms/step - loss: 0.0499 - val_loss: 0.0956\n",
      "Epoch 8/30\n",
      "19433/19433 [==============================] - 52s 3ms/step - loss: 0.0506 - val_loss: 0.0565\n",
      "Epoch 9/30\n",
      "19433/19433 [==============================] - 50s 3ms/step - loss: 0.0441 - val_loss: 0.1169\n",
      "Epoch 10/30\n",
      "19433/19433 [==============================] - 47s 2ms/step - loss: 0.0513 - val_loss: 0.0481\n",
      "Epoch 11/30\n",
      "19433/19433 [==============================] - 48s 2ms/step - loss: 0.0401 - val_loss: 0.0894\n",
      "Epoch 12/30\n",
      "19433/19433 [==============================] - 48s 2ms/step - loss: 0.0429 - val_loss: 0.0442\n",
      "Epoch 13/30\n",
      "19433/19433 [==============================] - 48s 2ms/step - loss: 0.0385 - val_loss: 0.0603\n",
      "Epoch 14/30\n",
      "19433/19433 [==============================] - 48s 2ms/step - loss: 0.0409 - val_loss: 0.0401\n",
      "Epoch 15/30\n",
      "19433/19433 [==============================] - 48s 2ms/step - loss: 0.0386 - val_loss: 0.0920\n",
      "Epoch 16/30\n",
      "19433/19433 [==============================] - 49s 3ms/step - loss: 0.0383 - val_loss: 0.0492\n",
      "Epoch 17/30\n",
      "19433/19433 [==============================] - 53s 3ms/step - loss: 0.0360 - val_loss: 0.0518\n",
      "Epoch 18/30\n",
      "19433/19433 [==============================] - 54s 3ms/step - loss: 0.0335 - val_loss: 0.0362\n",
      "Epoch 19/30\n",
      "19433/19433 [==============================] - 49s 3ms/step - loss: 0.0366 - val_loss: 0.1006\n",
      "Epoch 20/30\n",
      "19433/19433 [==============================] - 49s 3ms/step - loss: 0.0329 - val_loss: 0.0374\n",
      "Epoch 21/30\n",
      "19433/19433 [==============================] - 48s 2ms/step - loss: 0.0322 - val_loss: 0.0709\n",
      "Epoch 22/30\n",
      "19433/19433 [==============================] - 48s 2ms/step - loss: 0.0341 - val_loss: 0.0336\n",
      "Epoch 23/30\n",
      "19433/19433 [==============================] - 49s 3ms/step - loss: 0.0306 - val_loss: 0.0619\n",
      "Epoch 24/30\n",
      "19433/19433 [==============================] - 48s 2ms/step - loss: 0.0308 - val_loss: 0.0351\n",
      "Epoch 25/30\n",
      "19433/19433 [==============================] - 49s 3ms/step - loss: 0.0256 - val_loss: 0.0404\n",
      "Epoch 26/30\n",
      "19433/19433 [==============================] - 48s 2ms/step - loss: 0.0360 - val_loss: 0.0299\n",
      "Epoch 27/30\n",
      "19433/19433 [==============================] - 49s 3ms/step - loss: 0.0268 - val_loss: 0.0771\n",
      "Epoch 28/30\n",
      "19433/19433 [==============================] - 48s 2ms/step - loss: 0.0316 - val_loss: 0.0291\n",
      "Epoch 29/30\n",
      "19433/19433 [==============================] - 50s 3ms/step - loss: 0.0270 - val_loss: 0.0936\n",
      "Epoch 30/30\n",
      "19433/19433 [==============================] - 48s 2ms/step - loss: 0.0294 - val_loss: 0.0279\n"
     ]
    },
    {
     "data": {
      "text/plain": [
       "<keras.callbacks.History at 0x164a4e48>"
      ]
     },
     "execution_count": 78,
     "metadata": {},
     "output_type": "execute_result"
    }
   ],
   "source": [
    "#Model Training\n",
    "model.fit(\n",
    "    x_train,\n",
    "    y_train,\n",
    "    batch_size=3028,\n",
    "    nb_epoch=30,\n",
    "    validation_split=0.1)"
   ]
  },
  {
   "cell_type": "markdown",
   "metadata": {},
   "source": [
    "Due to the high computational power demanded by our model, approx 1hr,  we save the model as a json so we dont have to train it every time"
   ]
  },
  {
   "cell_type": "code",
   "execution_count": 79,
   "metadata": {},
   "outputs": [
    {
     "name": "stdout",
     "output_type": "stream",
     "text": [
      "Saved model to disk\n"
     ]
    }
   ],
   "source": [
    "model_json = model.to_json()\n",
    "with open(\"model2.json\", \"w\") as json_file:\n",
    "    json_file.write(model_json)\n",
    "# serialize weights to HDF5\n",
    "model.save_weights(\"model2.h5\")\n",
    "print(\"Saved model to disk\")"
   ]
  },
  {
   "cell_type": "code",
   "execution_count": 103,
   "metadata": {},
   "outputs": [
    {
     "name": "stdout",
     "output_type": "stream",
     "text": [
      "Loaded model from disk\n"
     ]
    }
   ],
   "source": [
    "from keras.models import model_from_json\n",
    "json_file = open('model2.json', 'r')\n",
    "loaded_model_json = json_file.read()\n",
    "json_file.close()\n",
    "loaded_model = model_from_json(loaded_model_json)\n",
    "# load weights into new model\n",
    "loaded_model.load_weights(\"model2.h5\")\n",
    "print(\"Loaded model from disk\")"
   ]
  },
  {
   "cell_type": "code",
   "execution_count": 105,
   "metadata": {},
   "outputs": [],
   "source": [
    "# create the list of difference between prediction and test data\n",
    "diff=[]\n",
    "ratio=[]\n",
    "\n",
    "p = loaded_model.predict(x_test)\n",
    "#predictions = lstm.predict_sequences_multiple(loaded_model, x_test, 50, 50)\n",
    "for u in range(len(y_test)):\n",
    "    pr = p[u][0]\n",
    "    ratio.append((y_test[u]/pr)-1)\n",
    "    diff.append(abs(y_test[u]- pr))"
   ]
  },
  {
   "cell_type": "code",
   "execution_count": 86,
   "metadata": {},
   "outputs": [
    {
     "data": {
      "image/png": "[encoded data removed]",
      "text/plain": [
       "<Figure size 432x288 with 1 Axes>"
      ]
     },
     "metadata": {},
     "output_type": "display_data"
    }
   ],
   "source": [
    "import matplotlib.pyplot as plt\n",
    "%matplotlib inline\n",
    "# plot the prediction and the reality (for the test data)\n",
    "fig, axs = plt.subplots()\n",
    "axs.plot(p,color='red', label='prediction')\n",
    "axs.plot(y_test,color='blue', label='y_test')\n",
    "plt.legend(loc='upper left')\n",
    "plt.show()"
   ]
  },
  {
   "cell_type": "code",
   "execution_count": 109,
   "metadata": {},
   "outputs": [
    {
     "name": "stdout",
     "output_type": "stream",
     "text": [
      "There are: 10 anomalies.\n"
     ]
    }
   ],
   "source": [
    "#The datapoins with the highest difference are anomalies.\n",
    "diff = pd.Series(diff)\n",
    "number_of_outliers = int(0.01*len(diff))\n",
    "threshold = diff.nlargest(number_of_outliers).min()\n",
    "test = (diff >= threshold).astype(int)\n",
    "complement = pd.Series(0, index=np.arange(len(data_n)-testdatasize))\n",
    "anom_df = complement.append(test, ignore_index='True')\n",
    "print(\"There are: {} anomalies.\".format(sum(anom_df==1)))"
   ]
  },
  {
   "cell_type": "code",
   "execution_count": 110,
   "metadata": {},
   "outputs": [
    {
     "data": {
      "image/png": "[encoded data removed]",
      "text/plain": [
       "<Figure size 864x288 with 1 Axes>"
      ]
     },
     "metadata": {},
     "output_type": "display_data"
    }
   ],
   "source": [
    "fig, ax = plt.subplots(figsize=(12,4))\n",
    "a = df.loc[anom_df==1, ['time_epoch', 'value']] #anomaly\n",
    "ax.plot(df['time_epoch'], df['value'], color='blue')\n",
    "ax.scatter(a['time_epoch'],a['value'], color='red')\n",
    "plt.show()"
   ]
  },
  {
   "cell_type": "markdown",
   "metadata": {},
   "source": [
    "# Conclusion"
   ]
  },
  {
   "cell_type": "markdown",
   "metadata": {},
   "source": [
    "Overall, trainning a Deep Learning algorithms takes a lot of effort and are hard to explain to a layman. The work done has proved a partial functionality of a deep neural network. We have proved the intuition behind a RNN/LSTM implementation, although it requires further fine tunning of the hyperparameters to show proper results."
   ]
  }
 ],
 "metadata": {
  "anaconda-cloud": {},
  "kernelspec": {
   "display_name": "Python [conda env:tensorflow]",
   "language": "python",
   "name": "conda-env-tensorflow-py"
  }
 },
 "nbformat": 4,
 "nbformat_minor": 1
}
